{
 "cells": [
  {
   "cell_type": "code",
   "execution_count": 11,
   "metadata": {},
   "outputs": [],
   "source": [
    "#linear algebra\n",
    "import numpy as np\n",
    "import pandas as pd\n",
    "pd.set_option('display.max_columns', 25)"
   ]
  },
  {
   "cell_type": "code",
   "execution_count": 12,
   "metadata": {},
   "outputs": [],
   "source": [
    "#Plotting\n",
    "import seaborn as sns\n",
    "import matplotlib.pyplot as plt"
   ]
  },
  {
   "cell_type": "code",
   "execution_count": 13,
   "metadata": {},
   "outputs": [],
   "source": [
    "#importing the data .csv file and reading it into pandas dataframe\n",
    "data_df = pd.read_csv('temperature.csv', index_col='Date', parse_dates=True)"
   ]
  },
  {
   "cell_type": "code",
   "execution_count": 14,
   "metadata": {},
   "outputs": [],
   "source": [
    "#Splititng the Date into Year, Month and Day\n",
    "data_df.reset_index(inplace=True)\n",
    "data_df['Year']  = data_df['Date'].dt.year\n",
    "data_df['Month'] = data_df['Date'].dt.month\n",
    "data_df['Day']   = data_df['Date'].dt.day\n",
    "data_df.set_index('Date', inplace=True)"
   ]
  },
  {
   "cell_type": "code",
   "execution_count": 15,
   "metadata": {},
   "outputs": [
    {
     "name": "stdout",
     "output_type": "stream",
     "text": [
      "Getting the info: \n",
      "<class 'pandas.core.frame.DataFrame'>\n",
      "DatetimeIndex: 7752 entries, 2013-06-30 to NaT\n",
      "Data columns (total 27 columns):\n",
      " #   Column            Non-Null Count  Dtype  \n",
      "---  ------            --------------  -----  \n",
      " 0   station           7750 non-null   float64\n",
      " 1   Present_Tmax      7682 non-null   float64\n",
      " 2   Present_Tmin      7682 non-null   float64\n",
      " 3   LDAPS_RHmin       7677 non-null   float64\n",
      " 4   LDAPS_RHmax       7677 non-null   float64\n",
      " 5   LDAPS_Tmax_lapse  7677 non-null   float64\n",
      " 6   LDAPS_Tmin_lapse  7677 non-null   float64\n",
      " 7   LDAPS_WS          7677 non-null   float64\n",
      " 8   LDAPS_LH          7677 non-null   float64\n",
      " 9   LDAPS_CC1         7677 non-null   float64\n",
      " 10  LDAPS_CC2         7677 non-null   float64\n",
      " 11  LDAPS_CC3         7677 non-null   float64\n",
      " 12  LDAPS_CC4         7677 non-null   float64\n",
      " 13  LDAPS_PPT1        7677 non-null   float64\n",
      " 14  LDAPS_PPT2        7677 non-null   float64\n",
      " 15  LDAPS_PPT3        7677 non-null   float64\n",
      " 16  LDAPS_PPT4        7677 non-null   float64\n",
      " 17  lat               7752 non-null   float64\n",
      " 18  lon               7752 non-null   float64\n",
      " 19  DEM               7752 non-null   float64\n",
      " 20  Slope             7752 non-null   float64\n",
      " 21  Solar radiation   7752 non-null   float64\n",
      " 22  Next_Tmax         7725 non-null   float64\n",
      " 23  Next_Tmin         7725 non-null   float64\n",
      " 24  Year              7750 non-null   float64\n",
      " 25  Month             7750 non-null   float64\n",
      " 26  Day               7750 non-null   float64\n",
      "dtypes: float64(27)\n",
      "memory usage: 1.7 MB\n",
      "None\n"
     ]
    }
   ],
   "source": [
    "print('Getting the info: ')\n",
    "print(data_df.info())"
   ]
  },
  {
   "cell_type": "code",
   "execution_count": 16,
   "metadata": {},
   "outputs": [
    {
     "name": "stdout",
     "output_type": "stream",
     "text": [
      "The stats of the data: \n",
      "           station  Present_Tmax  Present_Tmin  LDAPS_RHmin  LDAPS_RHmax  \\\n",
      "count  7750.000000   7682.000000   7682.000000  7677.000000  7677.000000   \n",
      "mean     13.000000     29.768211     23.225059    56.759372    88.374804   \n",
      "std       7.211568      2.969999      2.413961    14.668111     7.192004   \n",
      "min       1.000000     20.000000     11.300000    19.794666    58.936283   \n",
      "25%       7.000000     27.800000     21.700000    45.963543    84.222862   \n",
      "50%      13.000000     29.900000     23.400000    55.039024    89.793480   \n",
      "75%      19.000000     32.000000     24.900000    67.190056    93.743629   \n",
      "max      25.000000     37.600000     29.900000    98.524734   100.000153   \n",
      "\n",
      "       LDAPS_Tmax_lapse  LDAPS_Tmin_lapse     LDAPS_WS     LDAPS_LH  \\\n",
      "count       7677.000000       7677.000000  7677.000000  7677.000000   \n",
      "mean          29.613447         23.512589     7.097875    62.505019   \n",
      "std            2.947191          2.345347     2.183836    33.730589   \n",
      "min           17.624954         14.272646     2.882580   -13.603212   \n",
      "25%           27.673499         22.089739     5.678705    37.266753   \n",
      "50%           29.703426         23.760199     6.547470    56.865482   \n",
      "75%           31.710450         25.152909     8.032276    84.223616   \n",
      "max           38.542255         29.619342    21.857621   213.414006   \n",
      "\n",
      "         LDAPS_CC1    LDAPS_CC2    LDAPS_CC3  ...   LDAPS_PPT3   LDAPS_PPT4  \\\n",
      "count  7677.000000  7677.000000  7677.000000  ...  7677.000000  7677.000000   \n",
      "mean      0.368774     0.356080     0.318404  ...     0.278200     0.269407   \n",
      "std       0.262458     0.258061     0.250362  ...     1.161809     1.206214   \n",
      "min       0.000000     0.000000     0.000000  ...     0.000000     0.000000   \n",
      "25%       0.146654     0.140615     0.101388  ...     0.000000     0.000000   \n",
      "50%       0.315697     0.312421     0.262555  ...     0.000000     0.000000   \n",
      "75%       0.575489     0.558694     0.496703  ...     0.007896     0.000041   \n",
      "max       0.967277     0.968353     0.983789  ...    15.841235    16.655469   \n",
      "\n",
      "               lat          lon          DEM        Slope  Solar radiation  \\\n",
      "count  7752.000000  7752.000000  7752.000000  7752.000000      7752.000000   \n",
      "mean     37.544722   126.991397    61.867972     1.257048      5341.502803   \n",
      "std       0.050352     0.079435    54.279780     1.370444       429.158867   \n",
      "min      37.456200   126.826000    12.370000     0.098475      4329.520508   \n",
      "25%      37.510200   126.937000    28.700000     0.271300      4999.018555   \n",
      "50%      37.550700   126.995000    45.716000     0.618000      5436.345215   \n",
      "75%      37.577600   127.042000    59.832400     1.767800      5728.316406   \n",
      "max      37.645000   127.135000   212.335000     5.178230      5992.895996   \n",
      "\n",
      "         Next_Tmax    Next_Tmin         Year        Month          Day  \n",
      "count  7725.000000  7725.000000  7750.000000  7750.000000  7750.000000  \n",
      "mean     30.274887    22.932220  2015.000000     7.080645    16.370968  \n",
      "std       3.128010     2.487613     1.414305     2.238364     8.241331  \n",
      "min      17.400000    11.300000  2013.000000     1.000000     7.000000  \n",
      "25%      28.200000    21.300000  2014.000000     7.000000     8.000000  \n",
      "50%      30.500000    23.100000  2015.000000     7.000000    16.000000  \n",
      "75%      32.600000    24.600000  2016.000000     8.000000    24.000000  \n",
      "max      38.900000    29.800000  2017.000000    12.000000    31.000000  \n",
      "\n",
      "[8 rows x 27 columns]\n"
     ]
    }
   ],
   "source": [
    "print('The stats of the data: ')\n",
    "print(data_df.describe())"
   ]
  },
  {
   "cell_type": "code",
   "execution_count": 17,
   "metadata": {},
   "outputs": [],
   "source": [
    "#Get rid of the last 2 rows of the data as they don't have station and date info\n",
    "data_df.drop(data_df.tail(2).index, inplace=True)\n"
   ]
  },
  {
   "cell_type": "code",
   "execution_count": 18,
   "metadata": {},
   "outputs": [
    {
     "data": {
      "text/plain": [
       "station              0\n",
       "Present_Tmax        70\n",
       "Present_Tmin        70\n",
       "LDAPS_RHmin         75\n",
       "LDAPS_RHmax         75\n",
       "LDAPS_Tmax_lapse    75\n",
       "LDAPS_Tmin_lapse    75\n",
       "LDAPS_WS            75\n",
       "LDAPS_LH            75\n",
       "LDAPS_CC1           75\n",
       "LDAPS_CC2           75\n",
       "LDAPS_CC3           75\n",
       "LDAPS_CC4           75\n",
       "LDAPS_PPT1          75\n",
       "LDAPS_PPT2          75\n",
       "LDAPS_PPT3          75\n",
       "LDAPS_PPT4          75\n",
       "lat                  0\n",
       "lon                  0\n",
       "DEM                  0\n",
       "Slope                0\n",
       "Solar radiation      0\n",
       "Next_Tmax           27\n",
       "Next_Tmin           27\n",
       "Year                 0\n",
       "Month                0\n",
       "Day                  0\n",
       "dtype: int64"
      ]
     },
     "execution_count": 18,
     "metadata": {},
     "output_type": "execute_result"
    }
   ],
   "source": [
    "data_df.isnull().sum()"
   ]
  },
  {
   "cell_type": "markdown",
   "metadata": {},
   "source": [
    "#looking at the  dataframe info, we can observe that all the columns can be grouped into 3 groups\n",
    "#based on the no. of missing values in their respective columns. Now let's check whether if these\n",
    "#missing values are at the same indices"
   ]
  },
  {
   "cell_type": "code",
   "execution_count": 19,
   "metadata": {},
   "outputs": [],
   "source": [
    "#This gives the list of indices with null values\n",
    "index_present_tmax= data_df['Present_Tmax'].index[data_df['Present_Tmax'].apply(np.isnan)]\n",
    "index_present_tmin= data_df['Present_Tmin'].index[data_df['Present_Tmin'].apply(np.isnan)]"
   ]
  },
  {
   "cell_type": "code",
   "execution_count": 20,
   "metadata": {},
   "outputs": [],
   "source": [
    "index_next_tmax   = data_df['Next_Tmax'].index[data_df['Next_Tmax'].apply(np.isnan)]\n",
    "index_next_tmin   = data_df['Next_Tmin'].index[data_df['Next_Tmin'].apply(np.isnan)]"
   ]
  },
  {
   "cell_type": "code",
   "execution_count": 26,
   "metadata": {},
   "outputs": [],
   "source": [
    "index_LDAPS_RHmax = data_df['LDAPS_RHmax'].index[data_df['LDAPS_RHmax'].apply(np.isnan)]\n",
    "index_LDAPS_RHmin = data_df['LDAPS_RHmin'].index[data_df['LDAPS_RHmin'].apply(np.isnan)]\n",
    "index_Tmax_lapse  = data_df['LDAPS_Tmax_lapse'].index[data_df['LDAPS_Tmax_lapse'].apply(np.isnan)]\n",
    "index_Tmin_lapse  = data_df['LDAPS_Tmin_lapse'].index[data_df['LDAPS_Tmin_lapse'].apply(np.isnan)]\n",
    "index_LDAPS_WS    = data_df['LDAPS_WS'].index[data_df['LDAPS_WS'].apply(np.isnan)]\n",
    "index_LDAPS_LH    = data_df['LDAPS_LH'].index[data_df['LDAPS_LH'].apply(np.isnan)]\n",
    "index_LDAPS_CC1   = data_df['LDAPS_CC1'].index[data_df['LDAPS_CC1'].apply(np.isnan)]\n",
    "index_LDAPS_CC2   = data_df['LDAPS_CC2'].index[data_df['LDAPS_CC2'].apply(np.isnan)]\n",
    "index_LDAPS_CC3   = data_df['LDAPS_CC3'].index[data_df['LDAPS_CC3'].apply(np.isnan)]\n",
    "index_LDAPS_CC4   = data_df['LDAPS_CC4'].index[data_df['LDAPS_CC4'].apply(np.isnan)]\n",
    "index_LDAPS_PPT1  = data_df['LDAPS_PPT1'].index[data_df['LDAPS_PPT1'].apply(np.isnan)]\n",
    "index_LDAPS_PPT2  = data_df['LDAPS_PPT2'].index[data_df['LDAPS_PPT2'].apply(np.isnan)]\n",
    "index_LDAPS_PPT3  = data_df['LDAPS_PPT3'].index[data_df['LDAPS_PPT3'].apply(np.isnan)]\n",
    "index_LDAPS_PPT4  = data_df['LDAPS_PPT4'].index[data_df['LDAPS_PPT4'].apply(np.isnan)]\n"
   ]
  },
  {
   "cell_type": "code",
   "execution_count": 22,
   "metadata": {},
   "outputs": [
    {
     "name": "stdout",
     "output_type": "stream",
     "text": [
      "Lists are identical\n"
     ]
    }
   ],
   "source": [
    "#Checking if the null values are at the same indices\n",
    "if list(index_present_tmax) == list(index_present_tmin):\n",
    "    print('Lists are identical')\n",
    "else: print('Unidentical lists')\n"
   ]
  },
  {
   "cell_type": "code",
   "execution_count": 24,
   "metadata": {},
   "outputs": [
    {
     "name": "stdout",
     "output_type": "stream",
     "text": [
      "Lists are identical\n"
     ]
    }
   ],
   "source": [
    "if list(index_next_tmax) == list(index_next_tmin):\n",
    "    print('Lists are identical')\n",
    "else: print('Unidentical lists')\n",
    "        "
   ]
  },
  {
   "cell_type": "code",
   "execution_count": 25,
   "metadata": {},
   "outputs": [
    {
     "name": "stdout",
     "output_type": "stream",
     "text": [
      "Lists are identical\n"
     ]
    }
   ],
   "source": [
    "if list(index_LDAPS_RHmax)==list(index_LDAPS_RHmin)==list(index_Tmax_lapse)==list(index_Tmin_lapse)==list(index_LDAPS_WS)==list(index_LDAPS_LH)==list(index_LDAPS_CC1)==list(index_LDAPS_CC2)==list(index_LDAPS_CC3)==list(index_LDAPS_CC4)==list(index_LDAPS_PPT1)==list(index_LDAPS_PPT2)==list(index_LDAPS_PPT3)==list(index_LDAPS_PPT4):\n",
    "    print('Lists are identical')\n",
    "else: print('Unidentical lists')\n"
   ]
  },
  {
   "cell_type": "markdown",
   "metadata": {},
   "source": [
    "#Hence we can see that all the missing values in thoese columns are present at the same indexes\n",
    "\n",
    "#There are 25 stations, let's divide all the data according to the stations\n",
    "#Creating 26 empty lists to store the stations data\n",
    "#Note here that we need only 25 empty lists to store the data of 25 stations. But I am creating 26 lists\n",
    "#and will leave the 1st list (index=0) empty, so that if I need the data for station i, I can access\n",
    "#directly station[i] and get the data. This is done to avoid any confusion."
   ]
  },
  {
   "cell_type": "code",
   "execution_count": 27,
   "metadata": {},
   "outputs": [],
   "source": [
    "no_of_stations = 25\n",
    "station = [[] for _ in range(no_of_stations+1)]\n",
    "\n",
    "for i in range(1,len(station)):\n",
    "    station[i] = data_df.loc[data_df['station'] == i]\n"
   ]
  },
  {
   "cell_type": "code",
   "execution_count": 29,
   "metadata": {},
   "outputs": [],
   "source": [
    "#All the columns are of datatype float64 and since the std. deviaiton is less and the total no. of\n",
    "#missing values are less, filling all the nan values with the respective column avg.\n",
    "for i in range(1,len(station)):\n",
    "    station[i] = station[i].fillna(station[i].mean())\n",
    "    #station[i].set_index('Date', inplace=True)"
   ]
  },
  {
   "cell_type": "code",
   "execution_count": 30,
   "metadata": {},
   "outputs": [],
   "source": [
    "#let's plot the geographical locations of the stations from the latitude, longitude data\n",
    "#create a new dataframe to store all the latitudes and longitudes\n",
    "new_data = pd.DataFrame(columns=['lat','lon'], index=range(0,25))\n",
    "for i in range(0,25):\n",
    "    new_data['lat'][i] = data_df['lat'][i]\n",
    "    new_data['lon'][i] = data_df['lon'][i]"
   ]
  },
  {
   "cell_type": "code",
   "execution_count": 31,
   "metadata": {},
   "outputs": [
    {
     "data": {
      "text/plain": [
       "Text(0.5, 1.0, 'Geographical location of stations')"
      ]
     },
     "execution_count": 31,
     "metadata": {},
     "output_type": "execute_result"
    },
    {
     "data": {
      "image/png": "[encoded data removed]",
      "text/plain": [
       "<Figure size 432x288 with 1 Axes>"
      ]
     },
     "metadata": {
      "needs_background": "light"
     },
     "output_type": "display_data"
    }
   ],
   "source": [
    "fig, ax = plt.subplots()\n",
    "ax.scatter(new_data['lat'],new_data['lon'], alpha=0.5)\n",
    "plt.title('Geographical location of stations')"
   ]
  },
  {
   "cell_type": "code",
   "execution_count": 32,
   "metadata": {},
   "outputs": [],
   "source": [
    "labels = [i for i in range(1,len(station))]\n",
    "for i, txt in enumerate(labels):\n",
    "    ax.annotate(txt, (new_data['lat'][i],new_data['lon'][i]))\n"
   ]
  },
  {
   "cell_type": "markdown",
   "metadata": {},
   "source": [
    "# VISULIZATION THE DATA"
   ]
  },
  {
   "cell_type": "code",
   "execution_count": 33,
   "metadata": {},
   "outputs": [],
   "source": [
    "#This shows the varaition of Present Max temp at a station throughout 2013 to 2016\n",
    "for i in range(1,len(station)):\n",
    "\n",
    "    plt.rcParams.update({'font.size': 5})\n",
    "    ncols = 2\n",
    "    nrows = 2"
   ]
  },
  {
   "cell_type": "code",
   "execution_count": 37,
   "metadata": {},
   "outputs": [
    {
     "data": {
      "image/png": "[encoded data removed]",
      "text/plain": [
       "<Figure size 432x288 with 4 Axes>"
      ]
     },
     "metadata": {
      "needs_background": "light"
     },
     "output_type": "display_data"
    }
   ],
   "source": [
    " fig, axes = plt.subplots(nrows=nrows, ncols=ncols)      \n",
    "fig.suptitle('Next Max temp at station {}'.format(i))\n",
    " years = [2013,2014,2015,2016]"
   ]
  },
  {
   "cell_type": "code",
   "execution_count": 38,
   "metadata": {},
   "outputs": [],
   "source": [
    "for ax, j in zip(axes.flatten(), years):\n",
    "    ax.plot(station[i].loc[station[i]['Year']==j]['Next_Tmax'], linewidth=0.75)\n",
    "    ax.title.set_text('Year {}'.format(j))"
   ]
  },
  {
   "cell_type": "code",
   "execution_count": 39,
   "metadata": {},
   "outputs": [],
   "source": [
    "for ax in axes.flatten():\n",
    "    ax.set_xticks([])\n",
    "    ax.tick_params(axis='y', labelsize=5) "
   ]
  },
  {
   "cell_type": "code",
   "execution_count": 41,
   "metadata": {},
   "outputs": [],
   "source": [
    "#This shows the variation of Present Max temp at all stations in a particular year\n",
    "years = [2013,2014,2015,2016]\n"
   ]
  },
  {
   "cell_type": "code",
   "execution_count": 42,
   "metadata": {},
   "outputs": [],
   "source": [
    "for j in years:\n",
    "    \n",
    "    #plt.rcParams.update({'font.size:5'})\n",
    "    ncols = 5\n",
    "    nrows = 5"
   ]
  },
  {
   "cell_type": "code",
   "execution_count": 45,
   "metadata": {},
   "outputs": [
    {
     "data": {
      "image/png": "[encoded data removed]",
      "text/plain": [
       "<Figure size 432x288 with 25 Axes>"
      ]
     },
     "metadata": {
      "needs_background": "light"
     },
     "output_type": "display_data"
    }
   ],
   "source": [
    " fig, axes = plt.subplots(nrows=nrows, ncols=ncols)\n",
    "fig.suptitle('Year {}'.format(j))\n",
    " i = range(1,26)"
   ]
  },
  {
   "cell_type": "code",
   "execution_count": 46,
   "metadata": {},
   "outputs": [],
   "source": [
    "for ax, i in zip(axes.flatten(), i):\n",
    "        ax.plot(station[i].loc[station[i]['Year']==j]['Next_Tmax'], linewidth=0.75)\n",
    "        ax.title.set_text('Station {}'.format(i))"
   ]
  },
  {
   "cell_type": "code",
   "execution_count": 47,
   "metadata": {},
   "outputs": [],
   "source": [
    " for ax in axes.flatten():\n",
    "        ax.set_xticks([])\n",
    "        ax.tick_params(axis='y', labelsize=5)"
   ]
  },
  {
   "cell_type": "code",
   "execution_count": 48,
   "metadata": {},
   "outputs": [],
   "source": [
    "fig.tight_layout(rect=[0, 0.03, 1, 0.95])\n",
    "    #plt.tight_layout()"
   ]
  },
  {
   "cell_type": "code",
   "execution_count": 49,
   "metadata": {},
   "outputs": [],
   "source": [
    "#Feature Scaling\n",
    "from sklearn.preprocessing import MinMaxScaler\n",
    "\n",
    "#For Multivariate Linear Regression\n",
    "from sklearn.linear_model import LinearRegression\n",
    "import statsmodels.api as sm\n",
    "\n",
    "#K-Fold cross validation\n",
    "from sklearn.model_selection import cross_val_score"
   ]
  },
  {
   "cell_type": "code",
   "execution_count": 50,
   "metadata": {},
   "outputs": [],
   "source": [
    "def get_train_valid(station):\n",
    "    \n",
    "    train = station.loc[station['Year']!=2017] \n",
    "    valid = station.loc[station['Year']==2017]\n",
    "    \n",
    "    train = train.drop(['Date','station','lat','lon','DEM','Slope','Year','Month','Day'], axis=1)\n",
    "    valid = valid.drop(['Date','station','lat','lon','DEM','Slope','Year','Month','Day'], axis=1)\n",
    "    \n",
    "    return train, valid"
   ]
  },
  {
   "cell_type": "code",
   "execution_count": 51,
   "metadata": {},
   "outputs": [],
   "source": [
    "def scale(X_train, X_test):\n",
    "    \n",
    "    scaler = MinMaxScaler(feature_range=(0,1))\n",
    "    scaler.fit(X_train)\n",
    "    X_train = scaler.transform(X_train)\n",
    "    X_test  = scaler.transform(X_test)\n",
    "    \n",
    "    return X_train, X_test"
   ]
  },
  {
   "cell_type": "code",
   "execution_count": 52,
   "metadata": {},
   "outputs": [],
   "source": [
    "def backElimination(X, Y_train, arr, get_arr):\n",
    "    \n",
    "    X_opt = X[:, arr]\n",
    "    regressor_OLS = sm.OLS(endog = Y_train, exog = X_opt).fit()\n",
    "    results_summary = regressor_OLS.summary()\n"
   ]
  },
  {
   "cell_type": "code",
   "execution_count": 59,
   "metadata": {},
   "outputs": [
    {
     "ename": "NameError",
     "evalue": "name 'results_summary' is not defined",
     "output_type": "error",
     "traceback": [
      "\u001b[1;31m---------------------------------------------------------------------------\u001b[0m",
      "\u001b[1;31mNameError\u001b[0m                                 Traceback (most recent call last)",
      "\u001b[1;32m<ipython-input-59-1736c834446c>\u001b[0m in \u001b[0;36m<module>\u001b[1;34m\u001b[0m\n\u001b[1;32m----> 1\u001b[1;33m \u001b[0mresults_as_html\u001b[0m \u001b[1;33m=\u001b[0m \u001b[0mresults_summary\u001b[0m\u001b[1;33m.\u001b[0m\u001b[0mtables\u001b[0m\u001b[1;33m[\u001b[0m\u001b[1;36m1\u001b[0m\u001b[1;33m]\u001b[0m\u001b[1;33m.\u001b[0m\u001b[0mas_html\u001b[0m\u001b[1;33m(\u001b[0m\u001b[1;33m)\u001b[0m\u001b[1;33m\u001b[0m\u001b[1;33m\u001b[0m\u001b[0m\n\u001b[0m\u001b[0;32m      2\u001b[0m \u001b[0mdfs\u001b[0m \u001b[1;33m=\u001b[0m \u001b[0mpd\u001b[0m\u001b[1;33m.\u001b[0m\u001b[0mread_html\u001b[0m\u001b[1;33m(\u001b[0m\u001b[0mresults_as_html\u001b[0m\u001b[1;33m,\u001b[0m \u001b[0mheader\u001b[0m\u001b[1;33m=\u001b[0m\u001b[1;36m0\u001b[0m\u001b[1;33m,\u001b[0m \u001b[0mindex_col\u001b[0m\u001b[1;33m=\u001b[0m\u001b[1;36m0\u001b[0m\u001b[1;33m)\u001b[0m\u001b[1;33m[\u001b[0m\u001b[1;36m0\u001b[0m\u001b[1;33m]\u001b[0m\u001b[1;33m\u001b[0m\u001b[1;33m\u001b[0m\u001b[0m\n",
      "\u001b[1;31mNameError\u001b[0m: name 'results_summary' is not defined"
     ]
    }
   ],
   "source": [
    "results_as_html = results_summary.tables[1].as_html()\n",
    "dfs = pd.read_html(results_as_html, header=0, index_col=0)[0]"
   ]
  },
  {
   "cell_type": "code",
   "execution_count": 58,
   "metadata": {},
   "outputs": [
    {
     "ename": "NameError",
     "evalue": "name 'results_summary' is not defined",
     "output_type": "error",
     "traceback": [
      "\u001b[1;31m---------------------------------------------------------------------------\u001b[0m",
      "\u001b[1;31mNameError\u001b[0m                                 Traceback (most recent call last)",
      "\u001b[1;32m<ipython-input-58-ed07914f4dc1>\u001b[0m in \u001b[0;36m<module>\u001b[1;34m\u001b[0m\n\u001b[1;32m----> 1\u001b[1;33m \u001b[0mresults_as_html\u001b[0m \u001b[1;33m=\u001b[0m \u001b[0mresults_summary\u001b[0m\u001b[1;33m.\u001b[0m\u001b[0mtables\u001b[0m\u001b[1;33m[\u001b[0m\u001b[1;36m1\u001b[0m\u001b[1;33m]\u001b[0m\u001b[1;33m.\u001b[0m\u001b[0mas_html\u001b[0m\u001b[1;33m(\u001b[0m\u001b[1;33m)\u001b[0m\u001b[1;33m\u001b[0m\u001b[1;33m\u001b[0m\u001b[0m\n\u001b[0m\u001b[0;32m      2\u001b[0m \u001b[0mdfs\u001b[0m\u001b[1;33m=\u001b[0m \u001b[0mpd\u001b[0m\u001b[1;33m.\u001b[0m\u001b[0mread_html\u001b[0m\u001b[1;33m(\u001b[0m\u001b[0mresults_as_html\u001b[0m\u001b[1;33m,\u001b[0m \u001b[0mheader\u001b[0m\u001b[1;33m=\u001b[0m\u001b[1;36m0\u001b[0m\u001b[1;33m,\u001b[0m \u001b[0mindex_col\u001b[0m\u001b[1;33m=\u001b[0m\u001b[1;36m0\u001b[0m\u001b[1;33m)\u001b[0m\u001b[1;33m[\u001b[0m\u001b[1;36m0\u001b[0m\u001b[1;33m]\u001b[0m\u001b[1;33m\u001b[0m\u001b[1;33m\u001b[0m\u001b[0m\n",
      "\u001b[1;31mNameError\u001b[0m: name 'results_summary' is not defined"
     ]
    }
   ],
   "source": [
    " results_as_html = results_summary.tables[1].as_html()\n",
    "dfs= pd.read_html(results_as_html, header=0, index_col=0)[0]"
   ]
  },
  {
   "cell_type": "code",
   "execution_count": 56,
   "metadata": {},
   "outputs": [
    {
     "ename": "NameError",
     "evalue": "name 'dfs' is not defined",
     "output_type": "error",
     "traceback": [
      "\u001b[1;31m---------------------------------------------------------------------------\u001b[0m",
      "\u001b[1;31mNameError\u001b[0m                                 Traceback (most recent call last)",
      "\u001b[1;32m<ipython-input-56-9797183072c6>\u001b[0m in \u001b[0;36m<module>\u001b[1;34m\u001b[0m\n\u001b[1;32m----> 1\u001b[1;33m \u001b[0mp_value\u001b[0m \u001b[1;33m=\u001b[0m  \u001b[0mdfs\u001b[0m\u001b[1;33m.\u001b[0m\u001b[0miloc\u001b[0m\u001b[1;33m[\u001b[0m\u001b[1;33m:\u001b[0m\u001b[1;33m,\u001b[0m \u001b[1;36m3\u001b[0m\u001b[1;33m]\u001b[0m\u001b[1;33m\u001b[0m\u001b[1;33m\u001b[0m\u001b[0m\n\u001b[0m\u001b[0;32m      2\u001b[0m \u001b[0mp_value_arr\u001b[0m \u001b[1;33m=\u001b[0m \u001b[0mp_value\u001b[0m\u001b[1;33m.\u001b[0m\u001b[0mtolist\u001b[0m\u001b[1;33m(\u001b[0m\u001b[1;33m)\u001b[0m\u001b[1;33m\u001b[0m\u001b[1;33m\u001b[0m\u001b[0m\n\u001b[0;32m      3\u001b[0m \u001b[0mpop_item\u001b[0m \u001b[1;33m=\u001b[0m \u001b[1;32mFalse\u001b[0m\u001b[1;33m\u001b[0m\u001b[1;33m\u001b[0m\u001b[0m\n\u001b[0;32m      4\u001b[0m \u001b[0mmaxpos\u001b[0m  \u001b[1;33m=\u001b[0m \u001b[0mp_value_arr\u001b[0m\u001b[1;33m.\u001b[0m\u001b[0mindex\u001b[0m\u001b[1;33m(\u001b[0m\u001b[0mmax\u001b[0m\u001b[1;33m(\u001b[0m\u001b[0mp_value_arr\u001b[0m\u001b[1;33m)\u001b[0m\u001b[1;33m)\u001b[0m\u001b[1;33m\u001b[0m\u001b[1;33m\u001b[0m\u001b[0m\n\u001b[0;32m      5\u001b[0m \u001b[1;32mif\u001b[0m\u001b[1;33m(\u001b[0m\u001b[0mp_value_arr\u001b[0m\u001b[1;33m[\u001b[0m\u001b[0mmaxpos\u001b[0m\u001b[1;33m]\u001b[0m\u001b[1;33m>\u001b[0m\u001b[0msl\u001b[0m\u001b[1;33m)\u001b[0m\u001b[1;33m:\u001b[0m\u001b[1;33m\u001b[0m\u001b[1;33m\u001b[0m\u001b[0m\n",
      "\u001b[1;31mNameError\u001b[0m: name 'dfs' is not defined"
     ]
    }
   ],
   "source": [
    "p_value =  dfs.iloc[:, 3]\n",
    "p_value_arr = p_value.tolist()\n",
    "pop_item = False\n",
    "maxpos  = p_value_arr.index(max(p_value_arr))\n",
    "if(p_value_arr[maxpos]>sl):\n",
    "    get_arr.append(arr[maxpos])\n",
    "    arr.pop(maxpos)\n",
    "    pop_item = True"
   ]
  },
  {
   "cell_type": "code",
   "execution_count": 60,
   "metadata": {},
   "outputs": [
    {
     "data": {
      "text/plain": [
       "station              0\n",
       "Present_Tmax        70\n",
       "Present_Tmin        70\n",
       "LDAPS_RHmin         75\n",
       "LDAPS_RHmax         75\n",
       "LDAPS_Tmax_lapse    75\n",
       "LDAPS_Tmin_lapse    75\n",
       "LDAPS_WS            75\n",
       "LDAPS_LH            75\n",
       "LDAPS_CC1           75\n",
       "LDAPS_CC2           75\n",
       "LDAPS_CC3           75\n",
       "LDAPS_CC4           75\n",
       "LDAPS_PPT1          75\n",
       "LDAPS_PPT2          75\n",
       "LDAPS_PPT3          75\n",
       "LDAPS_PPT4          75\n",
       "lat                  0\n",
       "lon                  0\n",
       "DEM                  0\n",
       "Slope                0\n",
       "Solar radiation      0\n",
       "Next_Tmax           27\n",
       "Next_Tmin           27\n",
       "Year                 0\n",
       "Month                0\n",
       "Day                  0\n",
       "dtype: int64"
      ]
     },
     "execution_count": 60,
     "metadata": {},
     "output_type": "execute_result"
    }
   ],
   "source": [
    "data_df.isnull().sum()"
   ]
  },
  {
   "cell_type": "code",
   "execution_count": 61,
   "metadata": {},
   "outputs": [],
   "source": [
    "targets  = ['Next_Tmax','Next_Tmin']\n",
    "features = ['Present_Tmax','Present_Tmin','LDAPS_RHmax','LDAPS_RHmin','LDAPS_Tmax_lapse',\n",
    "            'LDAPS_Tmin_lapse','LDAPS_WS','LDAPS_LH','LDAPS_CC1','LDAPS_CC2','LDAPS_CC3',\n",
    "            'LDAPS_CC4','LDAPS_PPT1','LDAPS_PPT2','LDAPS_PPT3','LDAPS_PPT4']"
   ]
  },
  {
   "cell_type": "code",
   "execution_count": 62,
   "metadata": {},
   "outputs": [],
   "source": [
    "#let's predict the Next_Tmax and Next_Tmin for 2017 at station-1 \n",
    "train = station[1].loc[station[1]['Year']!=2017]  \n",
    "valid = station[1].loc[station[1]['Year']==2017]\n"
   ]
  },
  {
   "cell_type": "code",
   "execution_count": 63,
   "metadata": {},
   "outputs": [
    {
     "ename": "KeyError",
     "evalue": "\"['Date'] not found in axis\"",
     "output_type": "error",
     "traceback": [
      "\u001b[1;31m---------------------------------------------------------------------------\u001b[0m",
      "\u001b[1;31mKeyError\u001b[0m                                  Traceback (most recent call last)",
      "\u001b[1;32m<ipython-input-63-187df6c8eaa1>\u001b[0m in \u001b[0;36m<module>\u001b[1;34m\u001b[0m\n\u001b[1;32m----> 1\u001b[1;33m \u001b[0mtrain\u001b[0m \u001b[1;33m=\u001b[0m \u001b[0mtrain\u001b[0m\u001b[1;33m.\u001b[0m\u001b[0mdrop\u001b[0m\u001b[1;33m(\u001b[0m\u001b[1;33m[\u001b[0m\u001b[1;34m'Date'\u001b[0m\u001b[1;33m,\u001b[0m\u001b[1;34m'station'\u001b[0m\u001b[1;33m,\u001b[0m\u001b[1;34m'lat'\u001b[0m\u001b[1;33m,\u001b[0m\u001b[1;34m'lon'\u001b[0m\u001b[1;33m,\u001b[0m\u001b[1;34m'DEM'\u001b[0m\u001b[1;33m,\u001b[0m\u001b[1;34m'Slope'\u001b[0m\u001b[1;33m,\u001b[0m\u001b[1;34m'Year'\u001b[0m\u001b[1;33m,\u001b[0m\u001b[1;34m'Month'\u001b[0m\u001b[1;33m,\u001b[0m\u001b[1;34m'Day'\u001b[0m\u001b[1;33m]\u001b[0m\u001b[1;33m,\u001b[0m \u001b[0maxis\u001b[0m\u001b[1;33m=\u001b[0m\u001b[1;36m1\u001b[0m\u001b[1;33m)\u001b[0m\u001b[1;33m\u001b[0m\u001b[1;33m\u001b[0m\u001b[0m\n\u001b[0m\u001b[0;32m      2\u001b[0m \u001b[0mvalid\u001b[0m \u001b[1;33m=\u001b[0m \u001b[0mvalid\u001b[0m\u001b[1;33m.\u001b[0m\u001b[0mdrop\u001b[0m\u001b[1;33m(\u001b[0m\u001b[1;33m[\u001b[0m\u001b[1;34m'Date'\u001b[0m\u001b[1;33m,\u001b[0m\u001b[1;34m'station'\u001b[0m\u001b[1;33m,\u001b[0m\u001b[1;34m'lat'\u001b[0m\u001b[1;33m,\u001b[0m\u001b[1;34m'lon'\u001b[0m\u001b[1;33m,\u001b[0m\u001b[1;34m'DEM'\u001b[0m\u001b[1;33m,\u001b[0m\u001b[1;34m'Slope'\u001b[0m\u001b[1;33m,\u001b[0m\u001b[1;34m'Year'\u001b[0m\u001b[1;33m,\u001b[0m\u001b[1;34m'Month'\u001b[0m\u001b[1;33m,\u001b[0m\u001b[1;34m'Day'\u001b[0m\u001b[1;33m]\u001b[0m\u001b[1;33m,\u001b[0m \u001b[0maxis\u001b[0m\u001b[1;33m=\u001b[0m\u001b[1;36m1\u001b[0m\u001b[1;33m)\u001b[0m\u001b[1;33m\u001b[0m\u001b[1;33m\u001b[0m\u001b[0m\n",
      "\u001b[1;32m~\\anaconda3\\lib\\site-packages\\pandas\\core\\frame.py\u001b[0m in \u001b[0;36mdrop\u001b[1;34m(self, labels, axis, index, columns, level, inplace, errors)\u001b[0m\n\u001b[0;32m   4161\u001b[0m                 \u001b[0mweight\u001b[0m  \u001b[1;36m1.0\u001b[0m     \u001b[1;36m0.8\u001b[0m\u001b[1;33m\u001b[0m\u001b[1;33m\u001b[0m\u001b[0m\n\u001b[0;32m   4162\u001b[0m         \"\"\"\n\u001b[1;32m-> 4163\u001b[1;33m         return super().drop(\n\u001b[0m\u001b[0;32m   4164\u001b[0m             \u001b[0mlabels\u001b[0m\u001b[1;33m=\u001b[0m\u001b[0mlabels\u001b[0m\u001b[1;33m,\u001b[0m\u001b[1;33m\u001b[0m\u001b[1;33m\u001b[0m\u001b[0m\n\u001b[0;32m   4165\u001b[0m             \u001b[0maxis\u001b[0m\u001b[1;33m=\u001b[0m\u001b[0maxis\u001b[0m\u001b[1;33m,\u001b[0m\u001b[1;33m\u001b[0m\u001b[1;33m\u001b[0m\u001b[0m\n",
      "\u001b[1;32m~\\anaconda3\\lib\\site-packages\\pandas\\core\\generic.py\u001b[0m in \u001b[0;36mdrop\u001b[1;34m(self, labels, axis, index, columns, level, inplace, errors)\u001b[0m\n\u001b[0;32m   3885\u001b[0m         \u001b[1;32mfor\u001b[0m \u001b[0maxis\u001b[0m\u001b[1;33m,\u001b[0m \u001b[0mlabels\u001b[0m \u001b[1;32min\u001b[0m \u001b[0maxes\u001b[0m\u001b[1;33m.\u001b[0m\u001b[0mitems\u001b[0m\u001b[1;33m(\u001b[0m\u001b[1;33m)\u001b[0m\u001b[1;33m:\u001b[0m\u001b[1;33m\u001b[0m\u001b[1;33m\u001b[0m\u001b[0m\n\u001b[0;32m   3886\u001b[0m             \u001b[1;32mif\u001b[0m \u001b[0mlabels\u001b[0m \u001b[1;32mis\u001b[0m \u001b[1;32mnot\u001b[0m \u001b[1;32mNone\u001b[0m\u001b[1;33m:\u001b[0m\u001b[1;33m\u001b[0m\u001b[1;33m\u001b[0m\u001b[0m\n\u001b[1;32m-> 3887\u001b[1;33m                 \u001b[0mobj\u001b[0m \u001b[1;33m=\u001b[0m \u001b[0mobj\u001b[0m\u001b[1;33m.\u001b[0m\u001b[0m_drop_axis\u001b[0m\u001b[1;33m(\u001b[0m\u001b[0mlabels\u001b[0m\u001b[1;33m,\u001b[0m \u001b[0maxis\u001b[0m\u001b[1;33m,\u001b[0m \u001b[0mlevel\u001b[0m\u001b[1;33m=\u001b[0m\u001b[0mlevel\u001b[0m\u001b[1;33m,\u001b[0m \u001b[0merrors\u001b[0m\u001b[1;33m=\u001b[0m\u001b[0merrors\u001b[0m\u001b[1;33m)\u001b[0m\u001b[1;33m\u001b[0m\u001b[1;33m\u001b[0m\u001b[0m\n\u001b[0m\u001b[0;32m   3888\u001b[0m \u001b[1;33m\u001b[0m\u001b[0m\n\u001b[0;32m   3889\u001b[0m         \u001b[1;32mif\u001b[0m \u001b[0minplace\u001b[0m\u001b[1;33m:\u001b[0m\u001b[1;33m\u001b[0m\u001b[1;33m\u001b[0m\u001b[0m\n",
      "\u001b[1;32m~\\anaconda3\\lib\\site-packages\\pandas\\core\\generic.py\u001b[0m in \u001b[0;36m_drop_axis\u001b[1;34m(self, labels, axis, level, errors)\u001b[0m\n\u001b[0;32m   3919\u001b[0m                 \u001b[0mnew_axis\u001b[0m \u001b[1;33m=\u001b[0m \u001b[0maxis\u001b[0m\u001b[1;33m.\u001b[0m\u001b[0mdrop\u001b[0m\u001b[1;33m(\u001b[0m\u001b[0mlabels\u001b[0m\u001b[1;33m,\u001b[0m \u001b[0mlevel\u001b[0m\u001b[1;33m=\u001b[0m\u001b[0mlevel\u001b[0m\u001b[1;33m,\u001b[0m \u001b[0merrors\u001b[0m\u001b[1;33m=\u001b[0m\u001b[0merrors\u001b[0m\u001b[1;33m)\u001b[0m\u001b[1;33m\u001b[0m\u001b[1;33m\u001b[0m\u001b[0m\n\u001b[0;32m   3920\u001b[0m             \u001b[1;32melse\u001b[0m\u001b[1;33m:\u001b[0m\u001b[1;33m\u001b[0m\u001b[1;33m\u001b[0m\u001b[0m\n\u001b[1;32m-> 3921\u001b[1;33m                 \u001b[0mnew_axis\u001b[0m \u001b[1;33m=\u001b[0m \u001b[0maxis\u001b[0m\u001b[1;33m.\u001b[0m\u001b[0mdrop\u001b[0m\u001b[1;33m(\u001b[0m\u001b[0mlabels\u001b[0m\u001b[1;33m,\u001b[0m \u001b[0merrors\u001b[0m\u001b[1;33m=\u001b[0m\u001b[0merrors\u001b[0m\u001b[1;33m)\u001b[0m\u001b[1;33m\u001b[0m\u001b[1;33m\u001b[0m\u001b[0m\n\u001b[0m\u001b[0;32m   3922\u001b[0m             \u001b[0mresult\u001b[0m \u001b[1;33m=\u001b[0m \u001b[0mself\u001b[0m\u001b[1;33m.\u001b[0m\u001b[0mreindex\u001b[0m\u001b[1;33m(\u001b[0m\u001b[1;33m**\u001b[0m\u001b[1;33m{\u001b[0m\u001b[0maxis_name\u001b[0m\u001b[1;33m:\u001b[0m \u001b[0mnew_axis\u001b[0m\u001b[1;33m}\u001b[0m\u001b[1;33m)\u001b[0m\u001b[1;33m\u001b[0m\u001b[1;33m\u001b[0m\u001b[0m\n\u001b[0;32m   3923\u001b[0m \u001b[1;33m\u001b[0m\u001b[0m\n",
      "\u001b[1;32m~\\anaconda3\\lib\\site-packages\\pandas\\core\\indexes\\base.py\u001b[0m in \u001b[0;36mdrop\u001b[1;34m(self, labels, errors)\u001b[0m\n\u001b[0;32m   5280\u001b[0m         \u001b[1;32mif\u001b[0m \u001b[0mmask\u001b[0m\u001b[1;33m.\u001b[0m\u001b[0many\u001b[0m\u001b[1;33m(\u001b[0m\u001b[1;33m)\u001b[0m\u001b[1;33m:\u001b[0m\u001b[1;33m\u001b[0m\u001b[1;33m\u001b[0m\u001b[0m\n\u001b[0;32m   5281\u001b[0m             \u001b[1;32mif\u001b[0m \u001b[0merrors\u001b[0m \u001b[1;33m!=\u001b[0m \u001b[1;34m\"ignore\"\u001b[0m\u001b[1;33m:\u001b[0m\u001b[1;33m\u001b[0m\u001b[1;33m\u001b[0m\u001b[0m\n\u001b[1;32m-> 5282\u001b[1;33m                 \u001b[1;32mraise\u001b[0m \u001b[0mKeyError\u001b[0m\u001b[1;33m(\u001b[0m\u001b[1;34mf\"{labels[mask]} not found in axis\"\u001b[0m\u001b[1;33m)\u001b[0m\u001b[1;33m\u001b[0m\u001b[1;33m\u001b[0m\u001b[0m\n\u001b[0m\u001b[0;32m   5283\u001b[0m             \u001b[0mindexer\u001b[0m \u001b[1;33m=\u001b[0m \u001b[0mindexer\u001b[0m\u001b[1;33m[\u001b[0m\u001b[1;33m~\u001b[0m\u001b[0mmask\u001b[0m\u001b[1;33m]\u001b[0m\u001b[1;33m\u001b[0m\u001b[1;33m\u001b[0m\u001b[0m\n\u001b[0;32m   5284\u001b[0m         \u001b[1;32mreturn\u001b[0m \u001b[0mself\u001b[0m\u001b[1;33m.\u001b[0m\u001b[0mdelete\u001b[0m\u001b[1;33m(\u001b[0m\u001b[0mindexer\u001b[0m\u001b[1;33m)\u001b[0m\u001b[1;33m\u001b[0m\u001b[1;33m\u001b[0m\u001b[0m\n",
      "\u001b[1;31mKeyError\u001b[0m: \"['Date'] not found in axis\""
     ]
    }
   ],
   "source": [
    "train = train.drop(['Date','station','lat','lon','DEM','Slope','Year','Month','Day'], axis=1)\n",
    "valid = valid.drop(['Date','station','lat','lon','DEM','Slope','Year','Month','Day'], axis=1)\n"
   ]
  },
  {
   "cell_type": "code",
   "execution_count": 64,
   "metadata": {},
   "outputs": [],
   "source": [
    "X_train = train.iloc[:, :-2].values\n",
    "Y_train_Tmax = train.iloc[:, [-2]].values\n",
    "Y_train_Tmin = train.iloc[:, [-1]].values"
   ]
  },
  {
   "cell_type": "code",
   "execution_count": 65,
   "metadata": {},
   "outputs": [],
   "source": [
    "X_test = valid.iloc[:, :-2].values\n",
    "Y_test_Tmax = valid.iloc[:, [-2]].values\n",
    "Y_test_Tmin = valid.iloc[:, [-1]].values\n",
    "\n",
    "#Normalizing the data\n",
    "scaler = MinMaxScaler(feature_range=(0,1))\n",
    "scaler.fit(X_train)\n",
    "X_train = scaler.transform(X_train)\n",
    "X_test  = scaler.transform(X_test)"
   ]
  },
  {
   "cell_type": "code",
   "execution_count": 67,
   "metadata": {},
   "outputs": [
    {
     "data": {
      "text/plain": [
       "LinearRegression()"
      ]
     },
     "execution_count": 67,
     "metadata": {},
     "output_type": "execute_result"
    }
   ],
   "source": [
    "#Multiple Linear Regression\n",
    "\n",
    "\n",
    "regressor_max = LinearRegression()\n",
    "regressor_max.fit(X_train, Y_train_Tmax)\n",
    "\n",
    "regressor_min = LinearRegression()\n",
    "regressor_min.fit(X_train, Y_train_Tmin)"
   ]
  },
  {
   "cell_type": "code",
   "execution_count": 68,
   "metadata": {},
   "outputs": [],
   "source": [
    "Y_pred_Tmax  = regressor_max.predict(X_test)\n",
    "Y_pred_Tmin  = regressor_min.predict(X_test)\n",
    "#Y_pred_train = regressor.predict(X_train)"
   ]
  },
  {
   "cell_type": "code",
   "execution_count": 69,
   "metadata": {},
   "outputs": [],
   "source": [
    "#K-fold cross validation\n",
    "accuracies_max = cross_val_score(estimator = regressor_max, X = X_train, y = Y_train_Tmax, cv = 10)\n",
    "acc_mean_max = accuracies_max.mean()\n",
    "acc_std_max  = accuracies_max.std()"
   ]
  },
  {
   "cell_type": "code",
   "execution_count": 70,
   "metadata": {},
   "outputs": [],
   "source": [
    "accuracies_min = cross_val_score(estimator = regressor_min, X = X_train, y = Y_train_Tmin, cv = 10)\n",
    "acc_mean_min = accuracies_min.mean()\n",
    "acc_std_min  = accuracies_min.std()\n"
   ]
  },
  {
   "cell_type": "code",
   "execution_count": 71,
   "metadata": {},
   "outputs": [],
   "source": [
    "kfold = {'acc_mean_max':acc_mean_max, 'acc_std_max':acc_std_max,\n",
    "         'acc_mean_min':acc_mean_min, 'acc_std_min':acc_std_min}"
   ]
  },
  {
   "cell_type": "code",
   "execution_count": 73,
   "metadata": {},
   "outputs": [],
   "source": [
    "#Backelimination for Tmax\n",
    "X_train_mul = np.append(arr = np.ones((X_train.shape[0], 1)).astype(int), values = X_train, axis = 1)\n",
    "sl = 0.05\n",
    "arr_max = []\n",
    "get_arr_max = []\n",
    "for i in range(0, X_train.shape[1]):\n",
    "    arr_max.append(i)"
   ]
  },
  {
   "cell_type": "code",
   "execution_count": 74,
   "metadata": {},
   "outputs": [],
   "source": [
    "def backElimination_Tmax(X, arr, get_arr):\n",
    "    \n",
    "    X_opt = X[:, arr]\n",
    "    regressor_OLS = sm.OLS(endog = Y_train_Tmax, exog = X_opt).fit()\n",
    "    results_summary = regressor_OLS.summary()\n",
    "\n",
    "    results_as_html = results_summary.tables[1].as_html()\n",
    "    dfs = pd.read_html(results_as_html, header=0, index_col=0)[0]"
   ]
  },
  {
   "cell_type": "code",
   "execution_count": 75,
   "metadata": {},
   "outputs": [
    {
     "ename": "NameError",
     "evalue": "name 'dfs' is not defined",
     "output_type": "error",
     "traceback": [
      "\u001b[1;31m---------------------------------------------------------------------------\u001b[0m",
      "\u001b[1;31mNameError\u001b[0m                                 Traceback (most recent call last)",
      "\u001b[1;32m<ipython-input-75-247569ab65d7>\u001b[0m in \u001b[0;36m<module>\u001b[1;34m\u001b[0m\n\u001b[1;32m----> 1\u001b[1;33m \u001b[0mp_value\u001b[0m \u001b[1;33m=\u001b[0m  \u001b[0mdfs\u001b[0m\u001b[1;33m.\u001b[0m\u001b[0miloc\u001b[0m\u001b[1;33m[\u001b[0m\u001b[1;33m:\u001b[0m\u001b[1;33m,\u001b[0m \u001b[1;36m3\u001b[0m\u001b[1;33m]\u001b[0m\u001b[1;33m\u001b[0m\u001b[1;33m\u001b[0m\u001b[0m\n\u001b[0m\u001b[0;32m      2\u001b[0m \u001b[0mp_value_arr\u001b[0m \u001b[1;33m=\u001b[0m \u001b[0mp_value\u001b[0m\u001b[1;33m.\u001b[0m\u001b[0mtolist\u001b[0m\u001b[1;33m(\u001b[0m\u001b[1;33m)\u001b[0m\u001b[1;33m\u001b[0m\u001b[1;33m\u001b[0m\u001b[0m\n\u001b[0;32m      3\u001b[0m \u001b[0mpop_item\u001b[0m \u001b[1;33m=\u001b[0m \u001b[1;32mFalse\u001b[0m\u001b[1;33m\u001b[0m\u001b[1;33m\u001b[0m\u001b[0m\n\u001b[0;32m      4\u001b[0m \u001b[0mmaxpos\u001b[0m  \u001b[1;33m=\u001b[0m \u001b[0mp_value_arr\u001b[0m\u001b[1;33m.\u001b[0m\u001b[0mindex\u001b[0m\u001b[1;33m(\u001b[0m\u001b[0mmax\u001b[0m\u001b[1;33m(\u001b[0m\u001b[0mp_value_arr\u001b[0m\u001b[1;33m)\u001b[0m\u001b[1;33m)\u001b[0m\u001b[1;33m\u001b[0m\u001b[1;33m\u001b[0m\u001b[0m\n\u001b[0;32m      5\u001b[0m \u001b[1;32mif\u001b[0m\u001b[1;33m(\u001b[0m\u001b[0mp_value_arr\u001b[0m\u001b[1;33m[\u001b[0m\u001b[0mmaxpos\u001b[0m\u001b[1;33m]\u001b[0m\u001b[1;33m>\u001b[0m\u001b[0msl\u001b[0m\u001b[1;33m)\u001b[0m\u001b[1;33m:\u001b[0m\u001b[1;33m\u001b[0m\u001b[1;33m\u001b[0m\u001b[0m\n",
      "\u001b[1;31mNameError\u001b[0m: name 'dfs' is not defined"
     ]
    }
   ],
   "source": [
    " p_value =  dfs.iloc[:, 3]\n",
    "p_value_arr = p_value.tolist()\n",
    " pop_item = False\n",
    "maxpos  = p_value_arr.index(max(p_value_arr))\n",
    "if(p_value_arr[maxpos]>sl):\n",
    "    get_arr.append(arr[maxpos])\n",
    "    arr.pop(maxpos)\n",
    "    pop_item = True"
   ]
  },
  {
   "cell_type": "code",
   "execution_count": 76,
   "metadata": {},
   "outputs": [],
   "source": [
    "ummary_max = backElimination_Tmax(X_train_mul, arr_max, get_arr_max)\n",
    "\n",
    "acc_max = round(regressor_max.score(X_train, Y_train_Tmax)*100, 2)\n",
    "\n",
    "\n",
    "#Backelimination for Tmin\n",
    "X_train_mul = np.append(arr = np.ones((X_train.shape[0], 1)).astype(int), values = X_train, axis = 1)\n",
    "sl = 0.05\n",
    "arr_min = []\n",
    "get_arr_min = []\n",
    "for i in range(0, X_train.shape[1]):\n",
    "    arr_min.append(i)"
   ]
  },
  {
   "cell_type": "code",
   "execution_count": 89,
   "metadata": {},
   "outputs": [],
   "source": [
    "def backElimination_Tmin(X, arr, get_arr):\n",
    "    \n",
    "    X_opt = X[:, arr]\n",
    "    regressor_OLS = sm.OLS(endog = Y_train_Tmin, exog = X_opt).fit()\n",
    "    results_summary = regressor_OLS.summary()\n",
    "\n",
    "    results_as_html = results_summary.tables[1].as_html()\n",
    "    dfs = pd.read_csv('temperature.csv', header=0, index_col=0)[0]"
   ]
  },
  {
   "cell_type": "code",
   "execution_count": 91,
   "metadata": {},
   "outputs": [
    {
     "ename": "NameError",
     "evalue": "name 'dfs' is not defined",
     "output_type": "error",
     "traceback": [
      "\u001b[1;31m---------------------------------------------------------------------------\u001b[0m",
      "\u001b[1;31mNameError\u001b[0m                                 Traceback (most recent call last)",
      "\u001b[1;32m<ipython-input-91-eb9dc055e1f4>\u001b[0m in \u001b[0;36m<module>\u001b[1;34m\u001b[0m\n\u001b[1;32m----> 1\u001b[1;33m \u001b[0mp_value\u001b[0m \u001b[1;33m=\u001b[0m  \u001b[0mdfs\u001b[0m\u001b[1;33m.\u001b[0m\u001b[0miloc\u001b[0m\u001b[1;33m[\u001b[0m\u001b[1;33m:\u001b[0m\u001b[1;33m,\u001b[0m \u001b[1;36m3\u001b[0m\u001b[1;33m]\u001b[0m\u001b[1;33m\u001b[0m\u001b[1;33m\u001b[0m\u001b[0m\n\u001b[0m\u001b[0;32m      2\u001b[0m \u001b[0mp_value_arr\u001b[0m \u001b[1;33m=\u001b[0m \u001b[0mp_value\u001b[0m\u001b[1;33m.\u001b[0m\u001b[0mtolist\u001b[0m\u001b[1;33m(\u001b[0m\u001b[1;33m)\u001b[0m\u001b[1;33m\u001b[0m\u001b[1;33m\u001b[0m\u001b[0m\n\u001b[0;32m      3\u001b[0m \u001b[0mpop_item\u001b[0m \u001b[1;33m=\u001b[0m \u001b[1;32mFalse\u001b[0m\u001b[1;33m\u001b[0m\u001b[1;33m\u001b[0m\u001b[0m\n\u001b[0;32m      4\u001b[0m \u001b[0mmaxpos\u001b[0m  \u001b[1;33m=\u001b[0m \u001b[0mp_value_arr\u001b[0m\u001b[1;33m.\u001b[0m\u001b[0mindex\u001b[0m\u001b[1;33m(\u001b[0m\u001b[0mmax\u001b[0m\u001b[1;33m(\u001b[0m\u001b[0mp_value_arr\u001b[0m\u001b[1;33m)\u001b[0m\u001b[1;33m)\u001b[0m\u001b[1;33m\u001b[0m\u001b[1;33m\u001b[0m\u001b[0m\n\u001b[0;32m      5\u001b[0m \u001b[1;32mif\u001b[0m\u001b[1;33m(\u001b[0m\u001b[0mp_value_arr\u001b[0m\u001b[1;33m[\u001b[0m\u001b[0mmaxpos\u001b[0m\u001b[1;33m]\u001b[0m\u001b[1;33m>\u001b[0m\u001b[0msl\u001b[0m\u001b[1;33m)\u001b[0m\u001b[1;33m:\u001b[0m\u001b[1;33m\u001b[0m\u001b[1;33m\u001b[0m\u001b[0m\n",
      "\u001b[1;31mNameError\u001b[0m: name 'dfs' is not defined"
     ]
    }
   ],
   "source": [
    "p_value =  dfs.iloc[:, 3]\n",
    "p_value_arr = p_value.tolist()\n",
    "pop_item = False\n",
    "maxpos  = p_value_arr.index(max(p_value_arr))\n",
    "if(p_value_arr[maxpos]>sl):\n",
    "    get_arr.append(arr[maxpos])\n",
    "    arr.pop(maxpos)\n",
    "    pop_item = True\n",
    "    \n",
    "    if(pop_item): return backElimination_Tmax(X, arr, get_arr)\n",
    "    else: \n",
    "        get_arr.sort()\n",
    "        return results_summary      "
   ]
  },
  {
   "cell_type": "code",
   "execution_count": 81,
   "metadata": {},
   "outputs": [],
   "source": [
    "summary_min = backElimination_Tmin(X_train_mul, arr_min, get_arr_min)\n",
    "\n",
    "acc_min = round(regressor_min.score(X_train, Y_train_Tmin)*100, 2)\n"
   ]
  },
  {
   "cell_type": "code",
   "execution_count": 82,
   "metadata": {},
   "outputs": [],
   "source": [
    "#Accuracies for Tmax and Tmin\n",
    "acc = {'Tmax accuarcy':acc_max, 'Tmin_accuracy':acc_min}\n"
   ]
  },
  {
   "cell_type": "code",
   "execution_count": 83,
   "metadata": {},
   "outputs": [],
   "source": [
    "Y_pred_Tmax = pd.DataFrame(Y_pred_Tmax)\n",
    "Y_pred_Tmin = pd.DataFrame(Y_pred_Tmin)"
   ]
  },
  {
   "cell_type": "code",
   "execution_count": 84,
   "metadata": {},
   "outputs": [],
   "source": [
    "Y_pred_Tmax.columns = ['Predicted Next_Tmax']\n",
    "Y_pred_Tmin.columns = ['Predicted Next_Tmin']\n"
   ]
  },
  {
   "cell_type": "code",
   "execution_count": 85,
   "metadata": {},
   "outputs": [],
   "source": [
    "Y_pred = pd.concat([Y_pred_Tmax, Y_pred_Tmin], axis=1, join='inner')\n",
    "test = valid\n",
    "test.index = [i for i in range(0,len(test))]"
   ]
  },
  {
   "cell_type": "code",
   "execution_count": 86,
   "metadata": {},
   "outputs": [
    {
     "data": {
      "image/png": "[encoded data removed]",
      "text/plain": [
       "<Figure size 432x288 with 2 Axes>"
      ]
     },
     "metadata": {
      "needs_background": "light"
     },
     "output_type": "display_data"
    }
   ],
   "source": [
    "#plotting the results\n",
    "nrows = 2\n",
    "ncols = 1\n",
    "fig, (ax1,ax2) = plt.subplots(nrows=nrows, ncols=ncols)"
   ]
  },
  {
   "cell_type": "code",
   "execution_count": 87,
   "metadata": {},
   "outputs": [
    {
     "data": {
      "text/plain": [
       "<matplotlib.legend.Legend at 0x235ab9b0d60>"
      ]
     },
     "execution_count": 87,
     "metadata": {},
     "output_type": "execute_result"
    }
   ],
   "source": [
    "ax1.plot(test['Next_Tmax'], label='True value')\n",
    "ax1.plot(Y_pred['Predicted Next_Tmax'], label='Predicted')\n",
    "ax1.title.set_text('Tmax - True v/s Predicted')\n",
    "ax1.set_xticks([])\n",
    "ax1.tick_params(axis='y', labelsize=5)\n",
    "ax1.legend(loc='upper right')\n"
   ]
  },
  {
   "cell_type": "code",
   "execution_count": 88,
   "metadata": {},
   "outputs": [
    {
     "data": {
      "text/plain": [
       "<matplotlib.legend.Legend at 0x235ab9678e0>"
      ]
     },
     "execution_count": 88,
     "metadata": {},
     "output_type": "execute_result"
    }
   ],
   "source": [
    "ax2.plot(test['Next_Tmin'], label='True value')\n",
    "ax2.plot(Y_pred['Predicted Next_Tmin'], label='Predicted')\n",
    "ax2.title.set_text('Tmin - True v/s Predicted')\n",
    "ax2.set_xticks([])\n",
    "ax2.tick_params(axis='y', labelsize=5)\n",
    "ax2.legend(loc='upper right')"
   ]
  },
  {
   "cell_type": "code",
   "execution_count": null,
   "metadata": {},
   "outputs": [],
   "source": []
  }
 ],
 "metadata": {
  "kernelspec": {
   "display_name": "Python 3",
   "language": "python",
   "name": "python3"
  },
  "language_info": {
   "codemirror_mode": {
    "name": "ipython",
    "version": 3
   },
   "file_extension": ".py",
   "mimetype": "text/x-python",
   "name": "python",
   "nbconvert_exporter": "python",
   "pygments_lexer": "ipython3",
   "version": "3.8.5"
  }
 },
 "nbformat": 4,
 "nbformat_minor": 4
}
